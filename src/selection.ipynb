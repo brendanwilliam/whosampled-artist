{
 "cells": [
  {
   "cell_type": "markdown",
   "metadata": {},
   "source": [
    "# **Selection of Web Elements**\n",
    "This script is designed to test accessing different web elements within a static page."
   ]
  },
  {
   "cell_type": "code",
   "execution_count": 6,
   "metadata": {},
   "outputs": [],
   "source": [
    "# Created: May 17, 2023\n",
    "# Author: Brendan Keane (GitHub @brendanwilliam)\n",
    "# Purpose: Create a list of CSS selectors to pull sample data\n",
    "\n",
    "# Imports\n",
    "from bs4 import BeautifulSoup\n",
    "import os\n",
    "import requests\n",
    "import json\n",
    "import time\n",
    "import random\n",
    "\n",
    "#==================== Global constants ====================#\n",
    "EXPORT_PATH = \"../src/data/raw/\"\n",
    "ARTIST = \"BTS\"\n",
    "ARTIST_SAMPLES = \"https://whosampled.com/{}/samples/\"\n",
    "SONG_SAMPLES = \"https://whosampled.com/{}/sampled/?cp={}\"\n",
    "HEADERS = {\n",
    "    'Access-Control-Allow-Origin': '*',\n",
    "    'Access-Control-Allow-Methods': 'GET',\n",
    "    'Access-Control-Allow-Headers': 'Content-Type',\n",
    "    'Access-Control-Max-Age': '3600',\n",
    "    'User-Agent': 'Mozilla/5.0 (X11; Ubuntu; Linux x86_64; rv:52.0) Gecko/20100101 Firefox/52.0'\n",
    "    }"
   ]
  },
  {
   "cell_type": "code",
   "execution_count": 7,
   "metadata": {},
   "outputs": [
    {
     "data": {
      "text/plain": [
       "<!DOCTYPE html>\n",
       "<html lang=\"en-US\">\n",
       "<head>\n",
       "<title>Just a moment...</title>\n",
       "<meta content=\"text/html; charset=utf-8\" http-equiv=\"Content-Type\"/>\n",
       "<meta content=\"IE=Edge\" http-equiv=\"X-UA-Compatible\"/>\n",
       "<meta content=\"noindex,nofollow\" name=\"robots\"/>\n",
       "<meta content=\"width=device-width,initial-scale=1\" name=\"viewport\"/>\n",
       "<link href=\"/cdn-cgi/styles/challenges.css\" rel=\"stylesheet\"/>\n",
       "</head>\n",
       "<body class=\"no-js\">\n",
       "<div class=\"main-wrapper\" role=\"main\">\n",
       "<div class=\"main-content\">\n",
       "<noscript>\n",
       "<div id=\"challenge-error-title\">\n",
       "<div class=\"h2\">\n",
       "<span class=\"icon-wrapper\">\n",
       "<div class=\"heading-icon warning-icon\"></div>\n",
       "</span>\n",
       "<span id=\"challenge-error-text\">\n",
       "                        Enable JavaScript and cookies to continue\n",
       "                    </span>\n",
       "</div>\n",
       "</div>\n",
       "</noscript>\n",
       "<div id=\"trk_jschal_js\" style=\"display:none;background-image:url('/cdn-cgi/images/trace/managed/nojs/transparent.gif?ray=7c8e5ad7ea4dc539')\"></div>\n",
       "<form action=\"/BTS/samples/?Access-Control-Allow-Origin=%2A&amp;Access-Control-Allow-Methods=GET&amp;Access-Control-Allow-Headers=Content-Type&amp;Access-Control-Max-Age=3600&amp;User-Agent=Mozilla%2F5.0+%28X11%3B+Ubuntu%3B+Linux+x86_64%3B+rv%3A52.0%29+Gecko%2F20100101+Firefox%2F52.0&amp;__cf_chl_f_tk=x1CZeTaODYwOcaehBx2Ca4Fy.7Wg35iwfzNATtTdSx0-1684352664-0-gaNycGzNDPs\" enctype=\"application/x-www-form-urlencoded\" id=\"challenge-form\" method=\"POST\">\n",
       "<input name=\"md\" type=\"hidden\" value=\"WDcqGNA3lQuqaw9gySQa_Czdu9gjt563qP2KrqHk8Ow-1684352664-0-ASYaR_-FoaGNOsEgxENZzgtjE8myhDaHl7G9OpLRA6exTJhQBLVvavnHJLKtHqtGlErpLdbCstdn99bbJ0L47LbjOPJtGJZWPRxUg1L8qkm4FHEy1-cnqG2N1nQ5u7onJ_0U487dkpgRBJ11dxWfu5fmK2aFlZiHR0pWAQUkPxjMLsGqqG5ehUY317wC7sTEspCsQwyqH-TdW9zdIDLI-7_b8PYYuqMLIr2I6JqT4REJ0dAMxMmJPL1acAJ71vK2uTy8tN0ZoUiwtE5K8MuhNWqfxTxfrMzMo9-KWnCRoQl0WRCtC-ZoWKE5BatbRtZr5E3Qt_L25yoSyscCrwX6okAffNb2ehJUuTfPoWKG1Nb63DeSh52hASnO75qhxJitD0S5z8XKHsXtsoon2xc-yRTpxXquRSYH4oa4rkWGdUVGvMWSe8JGSLdAXxYwWVRtYqQistFGKUgpJ_QvbsMAFbt115pW5WifhePN5KGdeD21jLt4kIpCiWVjpZ87odM8S_1O171ciiuKZg-e2Vk2szsxd9iEwow-r2bedXcUlfA-DtOjWeKp1YxibFp9trXBnstnGHT81vY3FFRgdC2aGbIEYaACSHxC9OkcLCbqTOClvhLHiXW8ZPdy-zYxQyKG3jh3ts3IpRenUrHNqgXEn3ww1K7YnIpgejYGtWY6rYq-FXWopt0ZeIE0R2r75D34l9KMKmoBg29hnBlufRgSssEhVtKUfcSFylnZ9QgKAwPr0xJZHlfUodY5Y3nQhDJGiRdCmmbcznXhkachsEaCwHmJlP4RK4AddsU4n00pXfVQTIVqW9keZMsUwzZfEd9QKurGNOBJByUHgTnTCZKWK-w0cMaAG1SFwynDwul1lQJX4yYUmMsl0roPYWWeTAqKEv3-jKyE2hz791kkr15vRGc_wk14dz71cvxUWZo-BxrlZ3OSqw2zQk3MaDKHuel6ZNb8eD9nZP8iAJWOLnJMZhlAkMNonCJyJ2tNmBgciO4GWhl7hHGQgeBxm9Kj6cGNHtk1J5CDi4XlUpARx6w9mMUZo3-923hiPjkleHoCUeyU6LCyHeGex-Bq42OmQubxRB8gdBpd6At8R4anCDnDveMoKkSPesS9LS85W8KcJlSt6qq4rNrh-yIfQCQJjU1OzaGa57Nqkw3Iq3tV1PLMhNbahicksDbvf0QLZ3F2XGcJeIGKTJKfX5PLN-hRPAvXj63JtfGQLT_gnyahZRfQtSIOv7GR2Z7EaFDHO0xDm_LwvCjdGIMocHA7mn6wzw2H_NqEnnv0dqQVwXNEOrgx4s6fXsObzojm58DBkjb9HY_BD0UdbR1hdzqL6_5buusK9wiBmlRiwezvjwsV0TYxrNg3F0Jc3SUCA1-C2VW_SoTmQXmv6sOjf9pVUOC2gtz3JSXwMNA6ianYgQLGIJyEKiWJ0gPrgEKvgSBEkIp9OsdkAwd2oaQjWOCeqAlq1HmMxkA4LQVBDzJq_99DGU5WwwfYPgr61_IYHTGJURFAruw8LvVCNXB8XXpsZmcPTL61lviD5H31vpLfxL6G9AOfw7KJ1E2anJAbUPGDJ09TRRx-tPkE3usS9KSTw4aIGzkwO2DkDrD-JaComuIcN3Uo0Qev-m-MDJW2cm020rSr8bv0Fb9v7a-lhlF2enNOyiSwUYPye6KIMV47TsobDMzl3Y0d82IzatsLSSHe09_sPrey0OjxLD738F1logZ3LfQHB7JO4LmonwR99_6u4tufl0_B8PMsBwKPPoNNNIi46n2713CYN3VMaC5_XGk9TqLKOEN6NBojzfCjXfJmlUynV-OVOKauktIgWwy_jk5yyznbsmPa_2kJzGk92cXdybtT8XCG_DiyBO7_uTFxYL_f0IqPoxVS4Y0ZEJq2vOfufe8NNudxxXXk4HVbhJpMYPwMsm1M8v-H96xihEac-FkRkoytkgvbJ-Voa3blqo_mPuBkbZVFp6Q4UXNzGi_pwaiqYId7m5nsUKTN75Sk64zQ_7dIH15z28SWjGgix6v9__I-0cSiIYITrs71w-EbATcNrFAT92iwSt3GtSQt1tQ-WB0Zfw6wZy0n9jY8FbU_PMLWDbYf9VDdPED65NQeQXjOBj69-LOXXgklkNBIHNXAkO3H6AH8RFlzqSugs3YlKp1IDpqMqjAXKyqxc7LncSqyMiZX0g4LA-PEqea3lYq5nt8_nJ3wVILIA_jFqrq0Km0MY4ZOpawbgSmsvjJCTc45ddo3gHbK8oQ5nIXfMik4moSTL-5Yk-B0vhOZpYo0OEXoALH2hJf7EIefjHaLAjePN_UdAlNG_1eA3Z_Ikt6MG83UHnhSFO6GLk1YCUWAdUvr6yOn0j7_4BGIi9CvhbUnremGpSVHxbzWYl_M4Eivk4VJqVT9om0GRwefc0DSsed4I0wkwf8rYQsguXFGVgX00dZfh1T2RLRawE9VzXanVgF-tXP8X2U7gospJwTF5-CL1XRZHcWqe6awewys1yRY5OlafTmjc4yU2egN1aHnDVQHi2CFvhOyR4oTWNGGq675PwmKT8RLMdhtT82V0E0heCvkAhfrghPLwdm_4EaBfvpK5E5SegNEoThYr4fIMiH-TvnqnrIBgv4qu4ekfAnBVPgZsUln28WKEY47EWY3i2Sj8ErUHlHLMKkz_fGtrOHmIF3c9fpjJjOEuh7RNMHg_WJOgfReUyF2TQVJgP6PGe8_sNtrygzqTZ-MmJ3qnkHuf3lRd1X-_nkOHZaLwj8YwEyV-AAaw6AD8bGXtN_nxljSEjSVIBI4IQXMMJxxn60plLIzlLioK_qd6Pie1TuvrVzfc_BtawjVQYf7zIo2XhRryCkYL3Gts-zXByEprIW-C0H1QHVgHhmG2kZeWsWsg-cT7S0-E1JzlIQrxDcTDAngH2CE96K7m0ltDPWMPnMSEQ8xCA_Q60aM5DVXxabIe_vSTnG3YEzlOAzeo3xsXDo_QFvaXzdr6pinOVix-c3Ui4X6uhrHzLbWlOgwNxMTuARGQ1rjY1HGubioIwJrGZ_rBvn061DesDi5tontLU6Gs4_pGFp-hxNbzHvP_huIpxo99eug9Ub5EHxOTAG5F3bJsHaRDJecfMsjWY-KVqOdUze9VQ3SJtpaMQFJevUM-p8jbu_wYzlaupY6L0YzZU-gprOCxAD8bpAHHjyy5x47zRX3yygIFnuZe0M5kEq4I5ATa9mBYxyh6wsn9VUT3UL0gb5_IXhmw83topNH6vFJnNIDwM_zWGhPJLfN4ZSTow\"/>\n",
       "</form>\n",
       "</div>\n",
       "</div>\n",
       "<script>\n",
       "    (function(){\n",
       "        window._cf_chl_opt={\n",
       "            cvId: '2',\n",
       "            cZone: 'whosampled.com',\n",
       "            cType: 'managed',\n",
       "            cNounce: '38398',\n",
       "            cRay: '7c8e5ad7ea4dc539',\n",
       "            cHash: '36bd3991dd939a9',\n",
       "            cUPMDTk: \"\\/BTS\\/samples\\/?Access-Control-Allow-Origin=%2A&Access-Control-Allow-Methods=GET&Access-Control-Allow-Headers=Content-Type&Access-Control-Max-Age=3600&User-Agent=Mozilla%2F5.0+%28X11%3B+Ubuntu%3B+Linux+x86_64%3B+rv%3A52.0%29+Gecko%2F20100101+Firefox%2F52.0&__cf_chl_tk=x1CZeTaODYwOcaehBx2Ca4Fy.7Wg35iwfzNATtTdSx0-1684352664-0-gaNycGzNDPs\",\n",
       "            cFPWv: 'g',\n",
       "            cTTimeMs: '1000',\n",
       "            cMTimeMs: '0',\n",
       "            cTplV: 5,\n",
       "            cTplB: 'cf',\n",
       "            cK: \"\",\n",
       "            cRq: {\n",
       "                ru: 'aHR0cHM6Ly93aG9zYW1wbGVkLmNvbS9CVFMvc2FtcGxlcy8/QWNjZXNzLUNvbnRyb2wtQWxsb3ctT3JpZ2luPSUyQSZBY2Nlc3MtQ29udHJvbC1BbGxvdy1NZXRob2RzPUdFVCZBY2Nlc3MtQ29udHJvbC1BbGxvdy1IZWFkZXJzPUNvbnRlbnQtVHlwZSZBY2Nlc3MtQ29udHJvbC1NYXgtQWdlPTM2MDAmVXNlci1BZ2VudD1Nb3ppbGxhJTJGNS4wKyUyOFgxMSUzQitVYnVudHUlM0IrTGludXgreDg2XzY0JTNCK3J2JTNBNTIuMCUyOStHZWNrbyUyRjIwMTAwMTAxK0ZpcmVmb3glMkY1Mi4w',\n",
       "                ra: 'cHl0aG9uLXJlcXVlc3RzLzIuMjcuMQ==',\n",
       "                rm: 'R0VU',\n",
       "                d: '0cVC06zFYBMHsDKfHBgwqRr/9ajrxBBveIWxT9ebqSKHsjKQFuQNo6hlT9WvD6eFuBGw1RzgM+dp1VAMzS5WeyctRHEKGoDU/Qc2HnWzHptX3uwPiqsSBvYWQ/B1l5TBwUJ5VnE+1uYl9fm3Zd6HAm0d8oqJHBvzNVyVA6+ml0TsXpsqURrukLwatcRLqkvi9faoD+pp78gzQPCDCwcY64ObO+6Q5A7vZ58xZh/21ULs9rQccbc7jn96NVPxGTAIzrH2BSQ4zJ43KJgEoK+NqYmz2G548CohRJDs3S0BeCgoVKvI4u+kSaCoyDU5RXQ9uxnmtYmrrHajNZ48SJnFDKi15emccqURDIOBC2AzerJncdWZIbh1pOiwG5DE7pgUfCvgF1GS+DOjtfFar5CPuSz/zn/gEVEdp/qubXNuPAyR5O+EJnDcjvVvFZ9sVlq2jElS6QALIwivw+aqDO06NLrXgEfZAWx52QQ1b8Pc+zRd0uOFfmcGRUOBes2SX9QrUAKuzdhax9D0fGxnB2HrUXSEfAEKI53VJ3uUkfFusOk9kCvYZjTneLdIUn9XuRbX8sAxFwSMiw/O73vhBwZrkPtyLQsZhGtmilMZ63/z63+MljDcjCDdvfG1RjPx0kU8',\n",
       "                t: 'MTY4NDM1MjY2NC4zMTgwMDA=',\n",
       "                m: '7BO87DJJtitTrq3emxPUHIpUPxwOTEUKhNunR55Ilj8=',\n",
       "                i1: 'PGfFdXAVeeZ9lCl22OdJ8A==',\n",
       "                i2: 'xd05RlzwT0/ItQ0uvtnkkQ==',\n",
       "                zh: 'XhRZ0/+sKJBC+H1r7rqq4H7pXMXWER09JP0mbeSCyYw=',\n",
       "                uh: 'JNy/u1JaDY8l68+s834y37Qd6UIzTJLBzCkJPX4t/ps=',\n",
       "                hh: 'R8b4kyKYCY+JWSHBCMOUDumXIj7aqEPglrpU3vP9xz4=',\n",
       "            }\n",
       "        };\n",
       "        var trkjs = document.createElement('img');\n",
       "        trkjs.setAttribute('src', '/cdn-cgi/images/trace/managed/js/transparent.gif?ray=7c8e5ad7ea4dc539');\n",
       "        trkjs.setAttribute('alt', '');\n",
       "        trkjs.setAttribute('style', 'display: none');\n",
       "        document.body.appendChild(trkjs);\n",
       "        var cpo = document.createElement('script');\n",
       "        cpo.src = '/cdn-cgi/challenge-platform/h/g/orchestrate/managed/v1?ray=7c8e5ad7ea4dc539';\n",
       "        window._cf_chl_opt.cOgUHash = location.hash === '' && location.href.indexOf('#') !== -1 ? '#' : location.hash;\n",
       "        window._cf_chl_opt.cOgUQuery = location.search === '' && location.href.slice(0, location.href.length - window._cf_chl_opt.cOgUHash.length).indexOf('?') !== -1 ? '?' : location.search;\n",
       "        if (window.history && window.history.replaceState) {\n",
       "            var ogU = location.pathname + window._cf_chl_opt.cOgUQuery + window._cf_chl_opt.cOgUHash;\n",
       "            history.replaceState(null, null, \"\\/BTS\\/samples\\/?Access-Control-Allow-Origin=%2A&Access-Control-Allow-Methods=GET&Access-Control-Allow-Headers=Content-Type&Access-Control-Max-Age=3600&User-Agent=Mozilla%2F5.0+%28X11%3B+Ubuntu%3B+Linux+x86_64%3B+rv%3A52.0%29+Gecko%2F20100101+Firefox%2F52.0&__cf_chl_rt_tk=x1CZeTaODYwOcaehBx2Ca4Fy.7Wg35iwfzNATtTdSx0-1684352664-0-gaNycGzNDPs\" + window._cf_chl_opt.cOgUHash);\n",
       "            cpo.onload = function() {\n",
       "                history.replaceState(null, null, ogU);\n",
       "            };\n",
       "        }\n",
       "        document.getElementsByTagName('head')[0].appendChild(cpo);\n",
       "    }());\n",
       "</script>\n",
       "</body>\n",
       "</html>"
      ]
     },
     "execution_count": 7,
     "metadata": {},
     "output_type": "execute_result"
    }
   ],
   "source": [
    "# Configuring BeautifulSoup\n",
    "def get_soup(url):\n",
    "    try:\n",
    "        req = requests.get(url, HEADERS)\n",
    "        return BeautifulSoup(req.text, \"lxml\")\n",
    "    except:\n",
    "        print(\"Unable to retrieve information from given URL:\\n\\t{}\".format(url))\n",
    "\n",
    "get_soup(ARTIST_SAMPLES.format(ARTIST))"
   ]
  }
 ],
 "metadata": {
  "kernelspec": {
   "display_name": "Python 3.10.4 64-bit",
   "language": "python",
   "name": "python3"
  },
  "language_info": {
   "codemirror_mode": {
    "name": "ipython",
    "version": 3
   },
   "file_extension": ".py",
   "mimetype": "text/x-python",
   "name": "python",
   "nbconvert_exporter": "python",
   "pygments_lexer": "ipython3",
   "version": "3.10.4"
  },
  "orig_nbformat": 4,
  "vscode": {
   "interpreter": {
    "hash": "aee8b7b246df8f9039afb4144a1f6fd8d2ca17a180786b69acc140d282b71a49"
   }
  }
 },
 "nbformat": 4,
 "nbformat_minor": 2
}
